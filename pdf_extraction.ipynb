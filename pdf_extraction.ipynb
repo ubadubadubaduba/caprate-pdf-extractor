{
 "cells": [
  {
   "cell_type": "markdown",
   "metadata": {},
   "source": [
    "# PDF Extraction Demo\n",
    "This notebook extracts text from PDF reports using Python libraries like pdfplumber and tabula."
   ]
  },
  {
   "cell_type": "code",
   "execution_count": null,
   "metadata": {},
   "outputs": [],
   "source": [
    "import pdfplumber\n",
    "with pdfplumber.open('CBRE_MarketView_Q2_2025.pdf') as pdf:\n",
    "    text = pdf.pages[0].extract_text()\n",
    "print(text[:500])"
   ]
  }
 ],
 "metadata": {
  "kernelspec": {
   "display_name": "Python 3",
   "language": "python",
   "name": "python3"
  },
  "language_info": {
   "name": "python",
   "version": "3.9"
  }
 },
 "nbformat": 4,
 "nbformat_minor": 5
}
